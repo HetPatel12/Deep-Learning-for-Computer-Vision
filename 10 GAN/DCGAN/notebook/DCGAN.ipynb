{
 "cells": [
  {
   "cell_type": "markdown",
   "metadata": {},
   "source": [
    "## Let's start by adding some useful imports\n",
    "Note: utils is a custom python module that I created for some simple operations.\n",
    "Check utils/common_utils.py for more details"
   ]
  },
  {
   "cell_type": "code",
   "execution_count": 3,
   "metadata": {
    "colab": {
     "autoexec": {
      "startup": false,
      "wait_interval": 0
     },
     "base_uri": "https://localhost:8080/",
     "height": 0
    },
    "colab_type": "code",
    "executionInfo": {
     "elapsed": 7591,
     "status": "ok",
     "timestamp": 1531061194898,
     "user": {
      "displayName": "kushagra pandey",
      "photoUrl": "https://lh3.googleusercontent.com/a/default-user=s128",
      "userId": "100804240872681981297"
     },
     "user_tz": -330
    },
    "id": "mJy7N-Vk70Ue",
    "outputId": "93cfc0db-5728-4e7f-e75f-ca2bfcaa0bde"
   },
   "outputs": [],
   "source": [
    "import os\n",
    "import uuid\n",
    "import yaml\n",
    "\n",
    "from sklearn import preprocessing\n",
    "import numpy as np\n",
    "import tensorflow as tf\n",
    "import matplotlib.pyplot as plt\n",
    "from utils.common_utils import cleanup, create_gif_from_images, generateSamples, restore_checkpoint_status, save_images, save_model_state\n",
    "\n",
    "\n",
    "# set the tensorflow verbosity\n",
    "tf.logging.set_verbosity(tf.logging.INFO)"
   ]
  },
  {
   "cell_type": "markdown",
   "metadata": {},
   "source": [
    "## Download the MNIST dataset using the in-built tensorflow modules"
   ]
  },
  {
   "cell_type": "code",
   "execution_count": 4,
   "metadata": {
    "colab": {
     "autoexec": {
      "startup": false,
      "wait_interval": 0
     },
     "base_uri": "https://localhost:8080/",
     "height": 487
    },
    "colab_type": "code",
    "executionInfo": {
     "elapsed": 11497,
     "status": "ok",
     "timestamp": 1531061206543,
     "user": {
      "displayName": "kushagra pandey",
      "photoUrl": "https://lh3.googleusercontent.com/a/default-user=s128",
      "userId": "100804240872681981297"
     },
     "user_tz": -330
    },
    "id": "US9f2soW70Ul",
    "outputId": "4f2db8b8-4794-4135-d12e-bb74a5622d32"
   },
   "outputs": [
    {
     "name": "stdout",
     "output_type": "stream",
     "text": [
      "WARNING:tensorflow:From <ipython-input-4-2cf56d89dc3a>:1: load_dataset (from tensorflow.contrib.learn.python.learn.datasets) is deprecated and will be removed in a future version.\n",
      "Instructions for updating:\n",
      "Please use tf.data.\n",
      "WARNING:tensorflow:From /usr/local/lib/python3.6/dist-packages/tensorflow/contrib/learn/python/learn/datasets/__init__.py:80: load_mnist (from tensorflow.contrib.learn.python.learn.datasets.mnist) is deprecated and will be removed in a future version.\n",
      "Instructions for updating:\n",
      "Please use alternatives such as official/mnist/dataset.py from tensorflow/models.\n",
      "WARNING:tensorflow:From /usr/local/lib/python3.6/dist-packages/tensorflow/contrib/learn/python/learn/datasets/mnist.py:300: read_data_sets (from tensorflow.contrib.learn.python.learn.datasets.mnist) is deprecated and will be removed in a future version.\n",
      "Instructions for updating:\n",
      "Please use alternatives such as official/mnist/dataset.py from tensorflow/models.\n",
      "WARNING:tensorflow:From /usr/local/lib/python3.6/dist-packages/tensorflow/contrib/learn/python/learn/datasets/mnist.py:260: maybe_download (from tensorflow.contrib.learn.python.learn.datasets.base) is deprecated and will be removed in a future version.\n",
      "Instructions for updating:\n",
      "Please write your own downloading logic.\n",
      "WARNING:tensorflow:From /usr/local/lib/python3.6/dist-packages/tensorflow/contrib/learn/python/learn/datasets/mnist.py:262: extract_images (from tensorflow.contrib.learn.python.learn.datasets.mnist) is deprecated and will be removed in a future version.\n",
      "Instructions for updating:\n",
      "Please use tf.data to implement this functionality.\n",
      "Extracting MNIST-data/train-images-idx3-ubyte.gz\n",
      "WARNING:tensorflow:From /usr/local/lib/python3.6/dist-packages/tensorflow/contrib/learn/python/learn/datasets/mnist.py:267: extract_labels (from tensorflow.contrib.learn.python.learn.datasets.mnist) is deprecated and will be removed in a future version.\n",
      "Instructions for updating:\n",
      "Please use tf.data to implement this functionality.\n",
      "Extracting MNIST-data/train-labels-idx1-ubyte.gz\n",
      "Extracting MNIST-data/t10k-images-idx3-ubyte.gz\n",
      "Extracting MNIST-data/t10k-labels-idx1-ubyte.gz\n",
      "WARNING:tensorflow:From /usr/local/lib/python3.6/dist-packages/tensorflow/contrib/learn/python/learn/datasets/mnist.py:290: DataSet.__init__ (from tensorflow.contrib.learn.python.learn.datasets.mnist) is deprecated and will be removed in a future version.\n",
      "Instructions for updating:\n",
      "Please use alternatives such as official/mnist/dataset.py from tensorflow/models.\n"
     ]
    }
   ],
   "source": [
    "# get the mnist dataset from tensorflow\n",
    "mnist = tf.contrib.learn.datasets.load_dataset('mnist')\n",
    "training_data = mnist.train.images\n",
    "testing_data = mnist.test.images\n",
    "validation_data = mnist.validation.images"
   ]
  },
  {
   "cell_type": "markdown",
   "metadata": {},
   "source": [
    "### The code below uses the notion of experiments which basically signifies a new experiment run on the network with different Neural Network hyperparameters. \n",
    "\n",
    "### Make sure to change this experiment-id when running the network using a new set of hyperparameters"
   ]
  },
  {
   "cell_type": "code",
   "execution_count": null,
   "metadata": {
    "colab": {
     "autoexec": {
      "startup": false,
      "wait_interval": 0
     },
     "base_uri": "https://localhost:8080/",
     "height": 0
    },
    "colab_type": "code",
    "executionInfo": {
     "elapsed": 789,
     "status": "ok",
     "timestamp": 1531061207391,
     "user": {
      "displayName": "kushagra pandey",
      "photoUrl": "https://lh3.googleusercontent.com/a/default-user=s128",
      "userId": "100804240872681981297"
     },
     "user_tz": -330
    },
    "id": "lUqn-pvl70Uq",
    "outputId": "91adea7b-f2cd-4aec-a140-16de67a9b78d"
   },
   "outputs": [],
   "source": [
    "NUM_DIMS = 28\n",
    "NUM_SAMPLES = training_data.shape[0]\n",
    "FLATTENED_DIMS = 784\n",
    "\n",
    "\"\"\"\n",
    "Defines the experiment id for a experiment.\n",
    "Make sure to update the experiment id when running the code using a new set of hyperparameters\n",
    "\"\"\"\n",
    "experiment_id = '2'\n",
    "# specify the directory where to save the samples generated by the generator\n",
    "SRC_DIR = './model_data_dcgan/experiment_{}'.format(experiment_id)"
   ]
  },
  {
   "cell_type": "markdown",
   "metadata": {},
   "source": [
    "### Display some images from the dataset to check if we have loaded the dataset correctly"
   ]
  },
  {
   "cell_type": "code",
   "execution_count": 6,
   "metadata": {
    "colab": {
     "autoexec": {
      "startup": false,
      "wait_interval": 0
     },
     "base_uri": "https://localhost:8080/",
     "height": 325
    },
    "colab_type": "code",
    "executionInfo": {
     "elapsed": 1455,
     "status": "ok",
     "timestamp": 1531061209112,
     "user": {
      "displayName": "kushagra pandey",
      "photoUrl": "https://lh3.googleusercontent.com/a/default-user=s128",
      "userId": "100804240872681981297"
     },
     "user_tz": -330
    },
    "id": "xbypXA-O70Uw",
    "outputId": "85dd25e5-1610-4a60-85dd-05831ed5192d"
   },
   "outputs": [
    {
     "data": {
      "image/png": "[encoded data removed]",
      "text/plain": [
       "<matplotlib.figure.Figure at 0x7fc89b68c048>"
      ]
     },
     "metadata": {
      "tags": []
     },
     "output_type": "display_data"
    }
   ],
   "source": [
    "save_images(training_data[0:9,:], show=True, dpi=125)"
   ]
  },
  {
   "cell_type": "markdown",
   "metadata": {},
   "source": [
    "### Define the hyperparameters for the Generator and the Discriminator here as a python dictionary. This object is then written to the config.yaml file after the training ends"
   ]
  },
  {
   "cell_type": "code",
   "execution_count": 7,
   "metadata": {
    "colab": {
     "autoexec": {
      "startup": false,
      "wait_interval": 0
     },
     "base_uri": "https://localhost:8080/",
     "height": 0
    },
    "colab_type": "code",
    "executionInfo": {
     "elapsed": 730,
     "status": "ok",
     "timestamp": 1531061209923,
     "user": {
      "displayName": "kushagra pandey",
      "photoUrl": "https://lh3.googleusercontent.com/a/default-user=s128",
      "userId": "100804240872681981297"
     },
     "user_tz": -330
    },
    "id": "m_HCE0fC70U0",
    "outputId": "806863f5-04ed-4f2f-c3d0-0b5cd04f97c9"
   },
   "outputs": [],
   "source": [
    "\"\"\"\n",
    "learning_rate : learning_rate used during the training procedure\n",
    "k : The number of steps used to train the discriminator\n",
    "noise_dim : The number of dimensions of the noise input to the generator net\n",
    "dropout_rate : The rate of dropout used in the dicriminator network\n",
    "num_steps: The number of steps to train the nets for\n",
    "m : The number of samples used for training the nets (half of the batch size)\n",
    "noise_variance : The variance of noise for sampling noise samples\n",
    "\"\"\"\n",
    "# define the learning hyperparameters as a dictionary\n",
    "config = {\n",
    "    \"starting_learning_rate\":0.0002,\n",
    "    \"k\":1,\n",
    "    \"noise_dim\":100,\n",
    "    \"dropout_rate\":0.5,\n",
    "    \"decay_steps\":10000,\n",
    "    \"decay_rate\":0.96,\n",
    "    \"num_steps\":5000,\n",
    "    \"m\":128,\n",
    "    \"noise_variance\":0.02,\n",
    "    \"beta1\":0.5,\n",
    "\n",
    "    # define the network hyperparameter\n",
    "    \"gen_layers_units\":{\n",
    "        \"projection_dim\" : 16,\n",
    "        \"deconv_1\" : 1024,\n",
    "        \"deconv_2\" : 512,\n",
    "        \"deconv_3\" : 256\n",
    "    },\n",
    "    \"dis_layers_units\":{\n",
    "        \"conv_1\" : 256,\n",
    "        \"conv_2\" : 512,\n",
    "        \"conv_3\" : 1024\n",
    "    },\n",
    "}\n",
    "\n",
    "global_step = tf.Variable(0, trainable=False)\n",
    "learning_rate = tf.train.exponential_decay(config['starting_learning_rate'], \n",
    "                                           global_step, \n",
    "                                           config['decay_steps'], \n",
    "                                           config['decay_rate'], \n",
    "                                           staircase=True)"
   ]
  },
  {
   "cell_type": "markdown",
   "metadata": {},
   "source": [
    "### Define the Input placeholders to the network"
   ]
  },
  {
   "cell_type": "code",
   "execution_count": 8,
   "metadata": {
    "colab": {
     "autoexec": {
      "startup": false,
      "wait_interval": 0
     },
     "base_uri": "https://localhost:8080/",
     "height": 0
    },
    "colab_type": "code",
    "executionInfo": {
     "elapsed": 928,
     "status": "ok",
     "timestamp": 1531061210958,
     "user": {
      "displayName": "kushagra pandey",
      "photoUrl": "https://lh3.googleusercontent.com/a/default-user=s128",
      "userId": "100804240872681981297"
     },
     "user_tz": -330
    },
    "id": "aY8X4cpa70U2",
    "outputId": "8d3ff8a8-d22b-4567-d2f2-2edc5f582518"
   },
   "outputs": [],
   "source": [
    "# define the input placeholders\n",
    "X = tf.placeholder(dtype=tf.float32, shape=(None, NUM_DIMS, NUM_DIMS, 1), name='Training-input')\n",
    "Z = tf.placeholder(dtype=tf.float32, shape=(None, config['noise_dim']), name='Noise-input')\n",
    "batch_norm = tf.placeholder(dtype=tf.bool, name='Generator-batchnorm')\n",
    "\n",
    "# this noise sample is used to visualize the generator learning over time\n",
    "base_noise_sample = tf.Variable(np.random.normal(size=(9, config['noise_dim']), \n",
    "                                                 scale=config['noise_variance']), \n",
    "                                dtype=tf.float32, \n",
    "                                expected_shape=(9, config['noise_dim']))"
   ]
  },
  {
   "cell_type": "markdown",
   "metadata": {},
   "source": [
    "### Define the Generator network. We use the TF Layers Api to create our network. Refer to the Tensorflow documentation on the Layers API for more details. Feel Free to play around with the generator architecture."
   ]
  },
  {
   "cell_type": "code",
   "execution_count": 9,
   "metadata": {
    "colab": {
     "autoexec": {
      "startup": false,
      "wait_interval": 0
     },
     "base_uri": "https://localhost:8080/",
     "height": 0
    },
    "colab_type": "code",
    "executionInfo": {
     "elapsed": 841,
     "status": "ok",
     "timestamp": 1531061211899,
     "user": {
      "displayName": "kushagra pandey",
      "photoUrl": "https://lh3.googleusercontent.com/a/default-user=s128",
      "userId": "100804240872681981297"
     },
     "user_tz": -330
    },
    "id": "uNueD6D970U4",
    "outputId": "5be1c8de-a25c-4732-e53b-1bceb8410d02"
   },
   "outputs": [],
   "source": [
    "def generator(noise_samples):\n",
    "    \n",
    "    with tf.variable_scope('GEN', reuse=tf.AUTO_REUSE):\n",
    "        \n",
    "        # project the noise to a vector\n",
    "        projected_samples = tf.layers.dense(noise_samples, 16, activation=tf.nn.relu)\n",
    "        \n",
    "        # reshape the projected samples to a 4D tensor\n",
    "        noise_input = tf.reshape(projected_samples, [-1, 4, 4, 1])\n",
    "        \n",
    "        # define the generator network\n",
    "        ####  First conv layer ####\n",
    "        outputg_conv_1 = tf.layers.conv2d_transpose(noise_input, filters=config['gen_layers_units']['deconv_1'], kernel_size=(4, 4), activation=tf.nn.relu)\n",
    "        outputg_batchnorm_1 = tf.layers.batch_normalization(outputg_conv_1, scale=False, training=batch_norm)\n",
    "        \n",
    "        ####  Second conv layer ####\n",
    "        outputg_conv_2 = tf.layers.conv2d_transpose(outputg_batchnorm_1, filters=config['gen_layers_units']['deconv_2'], kernel_size=(4, 4), activation=tf.nn.relu)\n",
    "#         outputg_batchnorm_2 = tf.layers.batch_normalization(outputg_conv_2, scale=False, training=batch_norm)\n",
    "        \n",
    "        ####  Third conv layer ####\n",
    "        outputg_conv_3 = tf.layers.conv2d_transpose(outputg_conv_2, filters=config['gen_layers_units']['deconv_3'], kernel_size=(4, 4), activation=tf.nn.relu)\n",
    "        \n",
    "        # the output of the generator network\n",
    "        outputg = tf.layers.conv2d_transpose(outputg_conv_3, filters=1, kernel_size=(4, 4), strides=(2, 2), activation=tf.nn.tanh)\n",
    "    \n",
    "    return outputg"
   ]
  },
  {
   "cell_type": "markdown",
   "metadata": {},
   "source": [
    "### Define the Discriminator network"
   ]
  },
  {
   "cell_type": "code",
   "execution_count": 10,
   "metadata": {
    "colab": {
     "autoexec": {
      "startup": false,
      "wait_interval": 0
     },
     "base_uri": "https://localhost:8080/",
     "height": 0
    },
    "colab_type": "code",
    "executionInfo": {
     "elapsed": 651,
     "status": "ok",
     "timestamp": 1531061212925,
     "user": {
      "displayName": "kushagra pandey",
      "photoUrl": "https://lh3.googleusercontent.com/a/default-user=s128",
      "userId": "100804240872681981297"
     },
     "user_tz": -330
    },
    "id": "9OPWRoq670U8",
    "outputId": "4ba8889e-bcc2-4f66-919d-af09398ef92a"
   },
   "outputs": [],
   "source": [
    "def discriminator(x):\n",
    "    \n",
    "    with tf.variable_scope('DIS', reuse=tf.AUTO_REUSE):\n",
    "        \n",
    "        # define the discriminator network\n",
    "        \n",
    "        ####  First conv layer ####\n",
    "        outputd_conv_1 = tf.layers.conv2d(x, filters=config['dis_layers_units']['conv_1'], kernel_size=(4, 4), strides=(2, 2), activation=tf.nn.leaky_relu)\n",
    "        outputd_dropout_1 = tf.layers.dropout(outputd_conv_1, rate=config['dropout_rate'], training=True)\n",
    "        \n",
    "        ####  Second conv layer ####\n",
    "        outputd_conv_2 = tf.layers.conv2d(outputd_dropout_1, filters=config['dis_layers_units']['conv_2'], kernel_size=(4, 4), activation=tf.nn.leaky_relu)\n",
    "        \n",
    "        ####  Third conv layer ####\n",
    "        outputd_conv_3 = tf.layers.conv2d(outputd_conv_2, filters=config['dis_layers_units']['conv_3'], kernel_size=(4, 4), activation=tf.nn.leaky_relu)\n",
    "        outputd_flatten_3 = tf.layers.flatten(outputd_conv_3)\n",
    "        \n",
    "        # the output of the discriminator network (The classification probability)\n",
    "        logit = tf.layers.dense(outputd_flatten_3, 1, activation=None)\n",
    "        outputd = tf.nn.sigmoid(logit)\n",
    "    \n",
    "    return (logit, outputd)"
   ]
  },
  {
   "cell_type": "markdown",
   "metadata": {},
   "source": [
    "### Define the Tensorflow ops to create the GAN, the loss metrics and the Optimizer ops to train the GAN"
   ]
  },
  {
   "cell_type": "code",
   "execution_count": null,
   "metadata": {
    "colab": {
     "autoexec": {
      "startup": false,
      "wait_interval": 0
     },
     "base_uri": "https://localhost:8080/",
     "height": 35
    },
    "colab_type": "code",
    "executionInfo": {
     "elapsed": 6336,
     "status": "ok",
     "timestamp": 1531061219358,
     "user": {
      "displayName": "kushagra pandey",
      "photoUrl": "https://lh3.googleusercontent.com/a/default-user=s128",
      "userId": "100804240872681981297"
     },
     "user_tz": -330
    },
    "id": "XI1R_bU370VP",
    "outputId": "d7cedc8b-7412-40a5-a397-b3e55c6cf446"
   },
   "outputs": [],
   "source": [
    "# define the network ops\n",
    "generator_output = generator(Z)\n",
    "d_real_logit, d_real_output = discriminator(X)\n",
    "d_fake_logit, d_fake_output = discriminator(generator_output)\n",
    "\n",
    "# define the loss ops\n",
    "D_loss = -tf.reduce_mean(tf.log(d_real_output) + tf.log(1 - d_fake_output))\n",
    "G_loss = -tf.reduce_mean(tf.log(d_fake_output))\n",
    "\n",
    "# define the optimizer ops\n",
    "gen_vars = tf.get_collection(tf.GraphKeys.GLOBAL_VARIABLES,scope=\"GEN\")\n",
    "disc_vars = tf.get_collection(tf.GraphKeys.GLOBAL_VARIABLES,scope=\"DIS\")\n",
    "\n",
    "# define the update ops to run batch normalization\n",
    "update_ops = tf.get_collection(tf.GraphKeys.UPDATE_OPS)\n",
    "with tf.control_dependencies(update_ops):\n",
    "    d_optimizer = tf.train.AdamOptimizer(learning_rate=learning_rate, beta1=config['beta1']).minimize(D_loss, var_list=disc_vars)\n",
    "    g_optimizer = tf.train.AdamOptimizer(learning_rate=learning_rate, beta1=config['beta1']).minimize(G_loss, var_list=gen_vars)\n",
    "\n",
    "# define the session variable\n",
    "saver = tf.train.Saver()\n",
    "checkpoint_path = os.path.join(SRC_DIR, 'checkpoints', 'model-{}.ckpt'.format(experiment_id))\n",
    "tmp_dir_path = os.path.join(SRC_DIR, 'tmp')\n",
    "\n",
    "sess = tf.InteractiveSession()\n",
    "\n",
    "# restore the checkpoint status for this experiment\n",
    "status = restore_checkpoint_status(saver, sess, checkpoint_path)\n",
    "if not status:\n",
    "    sess.run(tf.global_variables_initializer())\n",
    "    # remove the contents of the tmp location\n",
    "    if(os.path.exists(tmp_dir_path)):\n",
    "        cleanup(tmp_dir_path)\n",
    "    "
   ]
  },
  {
   "cell_type": "markdown",
   "metadata": {},
   "source": [
    "### Define the optimize method to train the GAN architecture using Tensorflow Sessions. Here we train the network by alternating the training between the Discriminator and the Generator i.e k steps of training D followed by a step for training G. \n",
    "\n",
    "### Also at every 100th training step we save an image sample generated from the Generator by giving a fixed noise vector as input. These images will be used to generate an animation over time displaying the learning of the Generator."
   ]
  },
  {
   "cell_type": "code",
   "execution_count": 11,
   "metadata": {
    "colab": {
     "autoexec": {
      "startup": false,
      "wait_interval": 0
     },
     "base_uri": "https://localhost:8080/",
     "height": 35
    },
    "colab_type": "code",
    "executionInfo": {
     "elapsed": 6336,
     "status": "ok",
     "timestamp": 1531061219358,
     "user": {
      "displayName": "kushagra pandey",
      "photoUrl": "https://lh3.googleusercontent.com/a/default-user=s128",
      "userId": "100804240872681981297"
     },
     "user_tz": -330
    },
    "id": "XI1R_bU370VP",
    "outputId": "d7cedc8b-7412-40a5-a397-b3e55c6cf446"
   },
   "outputs": [
    {
     "name": "stdout",
     "output_type": "stream",
     "text": [
      "No checkpoint found. Starting training.....\n"
     ]
    }
   ],
   "source": [
    "# define the optimization procedure\n",
    "def optimize():\n",
    "        \n",
    "    for epoch_idx in range(config[\"num_steps\"]):\n",
    "        status = epoch_idx % 500\n",
    "        for train_idx in range(config['k']):\n",
    "      \n",
    "            training_batch, _ = mnist.train.next_batch(batch_size=config['m'])\n",
    "            training_batch = np.reshape(training_batch, newshape=(config['m'], NUM_DIMS, NUM_DIMS, 1))\n",
    "#             optimize the discriminator network\n",
    "            _, discriminator_loss = sess.run([d_optimizer, D_loss], feed_dict={Z:generateSamples(config['m'], \n",
    "                                                                                                 config['noise_dim'], \n",
    "                                                                                                 config['noise_variance']), X:training_batch, batch_norm:True})\n",
    "            if(status == 0):\n",
    "              print('Step {}: D-Loss:{}'.format(epoch_idx, discriminator_loss))\n",
    "\n",
    "#         optimize the generator network\n",
    "        _, generator_loss = sess.run([g_optimizer, G_loss], feed_dict={Z:generateSamples(config['m'], \n",
    "                                                                                         config['noise_dim'], \n",
    "                                                                                         config['noise_variance']), batch_norm:True})\n",
    "        \n",
    "        if(epoch_idx % 100 == 0):\n",
    "            # run the generator on a small number of samples\n",
    "            generator_sample_output = sess.run(generator_output, feed_dict={Z:sess.run(base_noise_sample), batch_norm:False})\n",
    "#             save the image\n",
    "            img_id = str(uuid.uuid4())\n",
    "            save_images(generator_sample_output, tmp_path=tmp_dir_path, save=True, id=str(uuid.uuid4())[:5], dpi=125)\n",
    "    \n",
    "        if(status == 0):\n",
    "            print('Step {}: G-Loss:{}'.format(epoch_idx, generator_loss))\n",
    "#             checkpoint the training\n",
    "            save_model_state(saver, sess, checkpoint_path)"
   ]
  },
  {
   "cell_type": "code",
   "execution_count": 12,
   "metadata": {
    "colab": {
     "autoexec": {
      "startup": false,
      "wait_interval": 0
     },
     "base_uri": "https://localhost:8080/",
     "height": 377
    },
    "colab_type": "code",
    "executionInfo": {
     "elapsed": 5752025,
     "status": "ok",
     "timestamp": 1531066971425,
     "user": {
      "displayName": "kushagra pandey",
      "photoUrl": "https://lh3.googleusercontent.com/a/default-user=s128",
      "userId": "100804240872681981297"
     },
     "user_tz": -330
    },
    "id": "lGRfpytZ70VS",
    "outputId": "d41cae2f-5e9e-406c-ea82-c9363114e7e8"
   },
   "outputs": [
    {
     "name": "stdout",
     "output_type": "stream",
     "text": [
      "Step 0: D-Loss:1.384556531906128\n",
      "Step 0: G-Loss:0.6918184757232666\n",
      "Step 500: D-Loss:0.4903964400291443\n",
      "Step 500: G-Loss:2.412503719329834\n",
      "Step 1000: D-Loss:0.5906983613967896\n",
      "Step 1000: G-Loss:1.7582556009292603\n",
      "Step 1500: D-Loss:0.6077720522880554\n",
      "Step 1500: G-Loss:1.996638536453247\n",
      "Step 2000: D-Loss:0.5905699729919434\n",
      "Step 2000: G-Loss:3.6454572677612305\n",
      "Step 2500: D-Loss:0.6678098440170288\n",
      "Step 2500: G-Loss:2.0524895191192627\n",
      "Step 3000: D-Loss:0.6706891059875488\n",
      "Step 3000: G-Loss:1.5557472705841064\n",
      "Step 3500: D-Loss:0.6228235363960266\n",
      "Step 3500: G-Loss:1.8531230688095093\n",
      "Step 4000: D-Loss:0.5795398950576782\n",
      "Step 4000: G-Loss:2.716036558151245\n",
      "Step 4500: D-Loss:0.6114509105682373\n",
      "Step 4500: G-Loss:2.619839668273926\n"
     ]
    }
   ],
   "source": [
    "optimize()"
   ]
  },
  {
   "cell_type": "markdown",
   "metadata": {},
   "source": [
    "### Plot some test images generated by the Generator Network and create a gif animation from the images generated earlier during training. Also write the network hyperparameters to a file."
   ]
  },
  {
   "cell_type": "code",
   "execution_count": 17,
   "metadata": {
    "colab": {
     "autoexec": {
      "startup": false,
      "wait_interval": 0
     },
     "base_uri": "https://localhost:8080/",
     "height": 574
    },
    "colab_type": "code",
    "executionInfo": {
     "elapsed": 9131,
     "status": "ok",
     "timestamp": 1531068239954,
     "user": {
      "displayName": "kushagra pandey",
      "photoUrl": "https://lh3.googleusercontent.com/a/default-user=s128",
      "userId": "100804240872681981297"
     },
     "user_tz": -330
    },
    "id": "n5IObjW070VW",
    "outputId": "3fea475a-ea5c-4891-fba0-6f3d20fd8bf3"
   },
   "outputs": [
    {
     "data": {
      "image/png": "[encoded data removed]",
      "text/plain": [
       "<matplotlib.figure.Figure at 0x7fc7fd574b70>"
      ]
     },
     "metadata": {
      "tags": []
     },
     "output_type": "display_data"
    }
   ],
   "source": [
    "def plot_test_images(session, generator_op):\n",
    "    \n",
    "    noise_test = np.random.normal(scale=config['noise_variance'], size=(100, config['noise_dim']))\n",
    "    images = sess.run(generator_op, feed_dict={Z:noise_test, batch_norm:False})\n",
    "    # plot the generated test images\n",
    "    save_images(images, show=True)\n",
    "    \n",
    "plot_test_images(sess, generator_output)\n",
    "\n",
    "# create a gif of the images in the directory and store\n",
    "src = os.path.join(SRC_DIR, 'tmp')\n",
    "dst = os.path.join(SRC_DIR, 'gifs/visualization.gif')\n",
    "create_gif_from_images(src, dst)\n",
    "\n",
    "# save the network configuration to a file\n",
    "config_file = os.path.join(SRC_DIR, 'config.yaml')\n",
    "with open(config_file, 'w') as writer:\n",
    "    yaml.dump(config, writer, default_flow_style=False)\n",
    "    \n",
    "# cleanup(os.path.join(SRC_DIR, 'tmp'))\n",
    "# cleanup(os.path.join(SRC_DIR, 'gifs'))\n",
    "# cleanup(os.path.join(SRC_DIR, 'checkpoints'))"
   ]
  },
  {
   "cell_type": "code",
   "execution_count": 0,
   "metadata": {
    "colab": {
     "autoexec": {
      "startup": false,
      "wait_interval": 0
     }
    },
    "colab_type": "code",
    "id": "GEgGIDLL70VX"
   },
   "outputs": [],
   "source": []
  }
 ],
 "metadata": {
  "accelerator": "GPU",
  "colab": {
   "collapsed_sections": [],
   "default_view": {},
   "name": "DCGAN.ipynb",
   "provenance": [],
   "version": "0.3.2",
   "views": {}
  },
  "kernelspec": {
   "display_name": "Python 3",
   "language": "python",
   "name": "python3"
  },
  "language_info": {
   "codemirror_mode": {
    "name": "ipython",
    "version": 3
   },
   "file_extension": ".py",
   "mimetype": "text/x-python",
   "name": "python",
   "nbconvert_exporter": "python",
   "pygments_lexer": "ipython3",
   "version": "3.6.7"
  }
 },
 "nbformat": 4,
 "nbformat_minor": 1
}
